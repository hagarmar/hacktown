{
 "cells": [
  {
   "cell_type": "code",
   "execution_count": 1,
   "metadata": {
    "collapsed": true
   },
   "outputs": [],
   "source": [
    "# Country (https://countrycode.org/)\n",
    "country_url = \"https://countrycode.org/\"\n",
    "# State (US: http://www.50states.com/abbreviations.htm, Canada: http://www.comeexplorecanada.com/abbreviations.php)\n",
    "state_us_url = \"http://www.50states.com/abbreviations.htm\"\n",
    "state_ca_url = \"http://www.ncbi.nlm.nih.gov/books/NBK7254/\""
   ]
  },
  {
   "cell_type": "code",
   "execution_count": 2,
   "metadata": {
    "collapsed": false
   },
   "outputs": [],
   "source": [
    "import requests\n",
    "from bs4 import BeautifulSoup\n",
    "from pymongo import MongoClient\n",
    "import pymongo"
   ]
  },
  {
   "cell_type": "code",
   "execution_count": 3,
   "metadata": {
    "collapsed": true
   },
   "outputs": [],
   "source": [
    "def get_page_soup(website_url):\n",
    "    page = requests.get(website_url)\n",
    "    if not page.ok: # if the page was returned ok\n",
    "        return None\n",
    "\n",
    "    soup = BeautifulSoup(page.text, \"html.parser\")\n",
    "    return soup"
   ]
  },
  {
   "cell_type": "code",
   "execution_count": 12,
   "metadata": {
    "collapsed": false
   },
   "outputs": [],
   "source": [
    "def insert_to_db(data_to_insert, collection_name, index_name):\n",
    "    connection = MongoClient('localhost', 27017)\n",
    "    db = connection.hacktown_utils\n",
    "\n",
    "    response = db[collection_name].insert(data_to_insert)\n",
    "    \n",
    "    if response:\n",
    "        index_res = db[collection_name].ensure_index(index_name, pymongo.ASCENDING, unique=True)\n",
    "        \n",
    "    connection.close()\n",
    "    \n",
    "    return response, index_res"
   ]
  },
  {
   "cell_type": "code",
   "execution_count": 5,
   "metadata": {
    "collapsed": false
   },
   "outputs": [
    {
     "name": "stdout",
     "output_type": "stream",
     "text": [
      "OK\n"
     ]
    },
    {
     "name": "stderr",
     "output_type": "stream",
     "text": [
      "/proj/virtualenvs/hacktown/lib/python2.7/site-packages/requests/packages/urllib3/util/ssl_.py:90: InsecurePlatformWarning: A true SSLContext object is not available. This prevents urllib3 from configuring SSL appropriately and may cause certain SSL connections to fail. For more information, see https://urllib3.readthedocs.org/en/latest/security.html#insecureplatformwarning.\n",
      "  InsecurePlatformWarning\n"
     ]
    }
   ],
   "source": [
    "# get country list and abbreviations (2/3 letter) page\n",
    "\n",
    "soup = get_page_soup(country_url)\n",
    "if soup:\n",
    "    print \"OK\""
   ]
  },
  {
   "cell_type": "code",
   "execution_count": 6,
   "metadata": {
    "collapsed": false
   },
   "outputs": [
    {
     "data": {
      "text/plain": [
       "240"
      ]
     },
     "execution_count": 6,
     "metadata": {},
     "output_type": "execute_result"
    }
   ],
   "source": [
    "all_countries =  soup.tbody.select(\"tr\")\n",
    "countries_list = []\n",
    "for country in all_countries:\n",
    "    all_abbvs = country.select(\"td\")[2].string.strip().split('/')\n",
    "    country_dict = {\"name\": country.a.string.strip(),\n",
    "                   \"abbreviation_2_letter\":all_abbvs[0].strip(),\n",
    "                   \"abbreviation_3_letter\":all_abbvs[1].strip(),\n",
    "                   \"type\":\"Country\"}\n",
    "    countries_list.append(country_dict)\n",
    "    \n",
    "len(countries_list)"
   ]
  },
  {
   "cell_type": "code",
   "execution_count": null,
   "metadata": {
    "collapsed": false
   },
   "outputs": [],
   "source": [
    "insert_to_db(countries_list, \"all_country_abbreviations\", \"name\")"
   ]
  },
  {
   "cell_type": "code",
   "execution_count": 14,
   "metadata": {
    "collapsed": false
   },
   "outputs": [
    {
     "name": "stdout",
     "output_type": "stream",
     "text": [
      "OK\n"
     ]
    }
   ],
   "source": [
    "# get US states list and abbreviations\n",
    "\n",
    "soup = get_page_soup(state_us_url)\n",
    "if soup:\n",
    "    print \"OK\""
   ]
  },
  {
   "cell_type": "code",
   "execution_count": 15,
   "metadata": {
    "collapsed": false
   },
   "outputs": [
    {
     "data": {
      "text/plain": [
       "65"
      ]
     },
     "execution_count": 15,
     "metadata": {},
     "output_type": "execute_result"
    }
   ],
   "source": [
    "all_states_us =  soup.table.select(\"tr\")\n",
    "state_us_list = []\n",
    "for state in all_states_us:\n",
    "    if state.td:\n",
    "        state_dict = {\"name\":state.td.string.strip(), \n",
    "                      \"abbreviation_2_letter\":state.select(\"td\")[1].string.strip(),\n",
    "                     \"country\": \"United States\",\n",
    "                     \"type\":\"State\"}\n",
    "        \n",
    "        state_us_list.append(state_dict)\n",
    "len(state_us_list)"
   ]
  },
  {
   "cell_type": "code",
   "execution_count": null,
   "metadata": {
    "collapsed": false
   },
   "outputs": [],
   "source": [
    "insert_to_db(state_us_list, \"all_subcountry_abbreviations\", \"name\")"
   ]
  },
  {
   "cell_type": "code",
   "execution_count": 17,
   "metadata": {
    "collapsed": false
   },
   "outputs": [
    {
     "name": "stdout",
     "output_type": "stream",
     "text": [
      "OK\n"
     ]
    }
   ],
   "source": [
    "# get CA provinces and abbreviations\n",
    "\n",
    "soup = get_page_soup(state_ca_url)\n",
    "if soup:\n",
    "    print \"OK\""
   ]
  },
  {
   "cell_type": "code",
   "execution_count": 18,
   "metadata": {
    "collapsed": false
   },
   "outputs": [
    {
     "name": "stdout",
     "output_type": "stream",
     "text": [
      "[{'country': 'Canada', 'type': 'Province', 'name': u'Alberta', 'abbreviation_2_letter': u'AB'}, {'country': 'Canada', 'type': 'Province', 'name': u'British Columbia', 'abbreviation_2_letter': u'BC'}, {'country': 'Canada', 'type': 'Province', 'name': u'Manitoba', 'abbreviation_2_letter': u'MB'}, {'country': 'Canada', 'type': 'Province', 'name': u'New Brunswick', 'abbreviation_2_letter': u'NB'}, {'country': 'Canada', 'type': 'Province', 'name': u'Newfoundland and Labrador', 'abbreviation_2_letter': u'NL'}, {'country': 'Canada', 'type': 'Province', 'name': u'Northwest Territories', 'abbreviation_2_letter': u'NT'}, {'country': 'Canada', 'type': 'Province', 'name': u'Nova Scotia', 'abbreviation_2_letter': u'NS'}, {'country': 'Canada', 'type': 'Province', 'name': u'Nunavut', 'abbreviation_2_letter': u'NU'}, {'country': 'Canada', 'type': 'Province', 'name': u'Ontario', 'abbreviation_2_letter': u'ON'}, {'country': 'Canada', 'type': 'Province', 'name': u'Prince Edward Island', 'abbreviation_2_letter': u'PE'}, {'country': 'Canada', 'type': 'Province', 'name': u'Quebec', 'abbreviation_2_letter': u'QC'}, {'country': 'Canada', 'type': 'Province', 'name': u'Saskatchewan', 'abbreviation_2_letter': u'SK'}, {'country': 'Canada', 'type': 'Province', 'name': u'Yukon', 'abbreviation_2_letter': u'YT'}]\n"
     ]
    }
   ],
   "source": [
    "all_provinces =  soup.tbody.select(\"tr\")\n",
    "all_province_list = []\n",
    "for province in all_provinces:\n",
    "    province_dict = {\"name\":province.select(\"td\")[0].string.strip(),\n",
    "                    \"abbreviation_2_letter\" : province.select(\"td\")[1].string.strip(),\n",
    "                    \"country\":\"Canada\",\n",
    "                    \"type\":\"Province\"}\n",
    "    \n",
    "    all_province_list.append(province_dict)\n",
    "    \n",
    "print (all_province_list)"
   ]
  },
  {
   "cell_type": "code",
   "execution_count": null,
   "metadata": {
    "collapsed": false
   },
   "outputs": [],
   "source": [
    "insert_to_db(all_province_list, \"all_subcountry_abbreviations\", \"name\")"
   ]
  }
 ],
 "metadata": {
  "kernelspec": {
   "display_name": "Python 2",
   "language": "python",
   "name": "python2"
  },
  "language_info": {
   "codemirror_mode": {
    "name": "ipython",
    "version": 2
   },
   "file_extension": ".py",
   "mimetype": "text/x-python",
   "name": "python",
   "nbconvert_exporter": "python",
   "pygments_lexer": "ipython2",
   "version": "2.7.6"
  }
 },
 "nbformat": 4,
 "nbformat_minor": 0
}
